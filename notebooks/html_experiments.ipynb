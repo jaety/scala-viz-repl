{
 "cells": [
  {
   "cell_type": "code",
   "execution_count": 14,
   "metadata": {
    "collapsed": false
   },
   "outputs": [
    {
     "data": {
      "text/html": [
       "\n",
       "<style>\n",
       " .bordered {\n",
       "     border: 1px solid pink;\n",
       "     flex-grow: 1;\n",
       "     min-width: 215px\n",
       " }\n",
       " .jae-container {\n",
       "     border: 1px solid blue;\n",
       "     display: flex;\n",
       "     width: 100%;\n",
       "     flex-wrap: wrap;\n",
       " }\n",
       "</style>\n"
      ]
     },
     "metadata": {},
     "output_type": "display_data"
    },
    {
     "data": {
      "text/html": [
       "\n",
       " <div id=foo class=jae-container>\n",
       "     <div class=bordered>a</div>\n",
       "     <div class=bordered>b</div>\n",
       "     <div class=bordered>c</div>\n",
       " </div>\n"
      ]
     },
     "metadata": {},
     "output_type": "display_data"
    },
    {
     "data": {
      "text/plain": [
       "\u001b[36mcontent\u001b[39m: \u001b[32mString\u001b[39m = \u001b[32m\"\"\"\n",
       "\n",
       " <div id=foo class=jae-container>\n",
       "     <div class=bordered>a</div>\n",
       "     <div class=bordered>b</div>\n",
       "     <div class=bordered>c</div>\n",
       " </div>\n",
       "\n",
       "\"\"\"\u001b[39m"
      ]
     },
     "execution_count": 14,
     "metadata": {},
     "output_type": "execute_result"
    }
   ],
   "source": [
    "// def wrapList(contents: Seq[String], width: Int = 3) = {\n",
    "    \n",
    "// }\n",
    "publish.html(\"\"\"\n",
    "<style>\n",
    " .bordered {\n",
    "     border: 1px solid pink;\n",
    "     flex-grow: 1;\n",
    "     min-width: 215px\n",
    " }\n",
    " .jae-container {\n",
    "     border: 1px solid blue;\n",
    "     display: flex;\n",
    "     width: 100%;\n",
    "     flex-wrap: wrap;\n",
    " }\n",
    "</style>\n",
    "\"\"\")\n",
    "val content = \"\"\"\n",
    " <div id=foo class=jae-container>\n",
    "     <div class=bordered>a</div>\n",
    "     <div class=bordered>b</div>\n",
    "     <div class=bordered>c</div>\n",
    " </div>\n",
    "\"\"\"\n",
    "publish.html(content)\n",
    "\n",
    "// publish.js(\"\"\"\n",
    "// element.append(\"<div id=foo class='bordered'>Hello World</div>\")\n",
    "// \"\"\")"
   ]
  },
  {
   "cell_type": "code",
   "execution_count": 17,
   "metadata": {
    "collapsed": false
   },
   "outputs": [
    {
     "data": {
      "text/html": [
       "\n",
       "<div id=\"tester\" style=\"width:600px;height:250px;\"></div>\n",
       "<script>\n",
       "require([\n",
       "    \"https://cdn.plot.ly/plotly-1.2.0.min.js\"\n",
       "], function(Plotly) {\n",
       "    var TESTER = document.getElementById('tester');\n",
       "    Plotly.plot( TESTER, [{\n",
       "        x: [1, 2, 3, 4, 5],\n",
       "        y: [1, 2, 4, 8, 16] }], {\n",
       "        margin: { t: 0 } } \n",
       "    );\n",
       "\n",
       "})\n"
      ]
     },
     "metadata": {},
     "output_type": "display_data"
    }
   ],
   "source": [
    "publish.html(\"\"\"\n",
    "<div id=\"tester\" style=\"width:600px;height:250px;\"></div>\n",
    "<script>\n",
    "require([\n",
    "    \"https://cdn.plot.ly/plotly-1.2.0.min.js\"\n",
    "], function(Plotly) {\n",
    "    var TESTER = document.getElementById('tester');\n",
    "    Plotly.plot( TESTER, [{\n",
    "        x: [1, 2, 3, 4, 5],\n",
    "        y: [1, 2, 4, 8, 16] }], {\n",
    "        margin: { t: 0 } } \n",
    "    );\n",
    "\n",
    "})\n",
    "\"\"\")"
   ]
  },
  {
   "cell_type": "code",
   "execution_count": null,
   "metadata": {
    "collapsed": true
   },
   "outputs": [],
   "source": []
  }
 ],
 "metadata": {
  "anaconda-cloud": {},
  "kernelspec": {
   "display_name": "Scala",
   "language": "scala",
   "name": "scala"
  },
  "language_info": {
   "codemirror_mode": "text/x-scala",
   "file_extension": ".scala",
   "mimetype": "text/x-scala",
   "name": "scala211",
   "nbconvert_exporter": "scala",
   "pygments_lexer": "scala",
   "version": "2.11.8"
  }
 },
 "nbformat": 4,
 "nbformat_minor": 1
}
